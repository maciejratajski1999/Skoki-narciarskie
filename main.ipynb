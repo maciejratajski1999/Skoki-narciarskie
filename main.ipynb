{
 "cells": [
  {
   "cell_type": "markdown",
   "metadata": {},
   "source": [
    "# Skoczek narciarski"
   ]
  },
  {
   "cell_type": "markdown",
   "metadata": {},
   "source": [
    "Skoki narciarskie są znane już od XIX wieku, natomiast nalęzą do olimpijskich sportów zimowych od 1924r. [[1](./Bibliografia.ipynb)] Celem każdego skoczka jest wykonanie dłuższego i wyższego skoku niż jego przeciwnik po rozpędzeniu się i odbiciu od progu skoczni. Podczas zawodów oceniany jest zasięg i styl lotu. Długość takiego skoku lub tzw. lotu (jeśli z wiekszej skoczni np. mamuciej) liczona jest od progu skoczni do pięty tylnego buta skoczka w chwili zetknięcia się narty na całej długości ze stokiem z dokładnością do 0,5 metra. [[2]((./Bibliografia.ipynb)]\n",
    "Aby lecieć dłużej trzeba pokonywać grawitację, z tego powodu bardzo często zdażało się, że sportowcy mieli niedowagę, wiedząc, iż czym mniejsza waga, tym wolniejsze spadanie. Aby zapobiec chorobom żywieniowym postanowiono zbadać od czego zależy wygrana i wprowadzono nowe zasady. Ustalono, że siła oporu i siła nośna jest zależna od powierzchni całego skoczka i jego sprzętu. Zatem czym mniejsze narty, tym słabsza była siła nośna i krótszy skok. Wprowadzono wtedy zasadę dotyczącą nart - miały one być tym krótsze im mniejsza waga (\"mniejsze skrzydła\"), natomiast nie mogą być one dłuższe niż 146% wzrostu zawodnika. [[3](./Bibliografia.ipynb)] Jeżeli masa ciała zawodnika nie spełnia minimalnego BMI 21 (ubrany w sprzęcie) to skoczek musi używać krótszych nart. "
   ]
  },
  {
   "cell_type": "markdown",
   "metadata": {},
   "source": [
    "#### Podczas lotu na sportowca działają: <br>\n",
    "- siła grawitacji $F_g$\n",
    "\\begin{equation}\n",
    "F_g = m \\cdot g ,\n",
    "\\end{equation}\n",
    "- siła nośna $F_l$\n",
    "\\begin{equation}\n",
    "F_l = \\dfrac{\\rho}{2} \\cdot c_l \\cdot A_l \\cdot \\text{v}^2 = \\dfrac{\\rho}{2} \\cdot L \\cdot \\text{v}^2 = \\gamma_l \\cdot \\text{v}^2,\n",
    "\\end{equation}\n",
    "- siła oporu $F_d$\n",
    "\\begin{equation}\n",
    "F_d = \\dfrac{\\rho}{2} \\cdot c_d \\cdot A_d \\cdot \\text{v}^2 = \\dfrac{\\rho}{2} \\cdot D  \\cdot \\text{v}^2 = \\gamma_d \\cdot \\text{v}^2,\n",
    "\\end{equation}"
   ]
  },
  {
   "cell_type": "markdown",
   "metadata": {},
   "source": [
    "gdzie: <br>\n",
    "m - masa skoczka, <br>\n",
    "g - współczynnik grawitacji, <br>\n",
    "$\\rho$  - gęstość powietrza, <br>\n",
    "v - rzeczywista prędkość, <br>\n",
    "A_l - powierzchnia rzutu ciała na płaszczyznę prostopadłą do wektora prędkości ciała względem powietrza unoszącego skoczka,<br>\n",
    "A_d - powierzchnia rzutu ciała na płaszczyznę prostopadłą do wektora prędkości ciała względem powietrza stanowiącego opór,<br>\n",
    "$c_l$ - współczynnik siły nośnej,<br>\n",
    "$c_d$ - współczynnik siły oporu,<br>\n",
    "L = $c_l \\cdot A $,<br>\n",
    "D = $c_d \\cdot A $,<br>\n",
    "$\\gamma_l = \\dfrac {\\rho}{2} \\cdot L$,<br>\n",
    "$\\gamma_d = \\dfrac {\\rho}{2} \\cdot D$.<br>"
   ]
  },
  {
   "cell_type": "markdown",
   "metadata": {},
   "source": [
    "![Skoczek na osiach i jego siły](siły-skoczek.png)"
   ]
  },
  {
   "cell_type": "markdown",
   "metadata": {},
   "source": [
    "Sportowiec może silnie wpływać na siły aerodynamiczne poprzez zmianę ułożenia swojego ciała, tj. zwiększając lub zmniejszając swoją powierzchnię.  <br>Może to wpływać na opór i siłę nośną (i moment obrotowy), a tym samym znacząco wpływa na zmiany jego pozycji w locie względem strumienia powietrza (kąt nachylenia).\n",
    "Niewiele wiadomo o siłach oporu i siły nośnej działających na złożoną strukturę ludzkiego ciała\n",
    "w strumieniu powietrza. <br> Z danych aerodynamicznych dla pozycji lotu jasno wynika, że siły nośne\n",
    "w skokach narciarskich mają taką samą wielkość jak siły oporu, a długość lotu jest bardzo wrażliwa na\n",
    "zmiany w obu."
   ]
  },
  {
   "cell_type": "markdown",
   "metadata": {},
   "source": [
    " ![A test image](ksztalt.png)"
   ]
  },
  {
   "cell_type": "markdown",
   "metadata": {},
   "source": [
    "Aby znaleźć równanie toru lotu wykorzystujemy drugą zasadę dynamiki Newtona i rozdzielamy nasze obliczenia na tor lotu względem osi X i Y. Wyznaczymy model liniowy dla małych prędkości oraz kwadratowy dla większych prędkości."
   ]
  },
  {
   "cell_type": "markdown",
   "metadata": {},
   "source": [
    "#### Model liniowy:\n",
    "\\begin{equation}\n",
    "\\left\\{ \\begin{array}{l}\n",
    "F_x = -F_d, \\\\\n",
    "F_y = F_l - F_g,\\\\\n",
    "\\end{array} \\right. \n",
    "\\end{equation}\n",
    "\n",
    "\\begin{equation}\n",
    "\\left\\{ \\begin{array}{l}\n",
    "m \\cdot a_x = - \\gamma_x \\cdot V_x, \\\\\n",
    "m \\cdot a_y =  \\gamma_y \\cdot V_y - m \\cdot g.\\\\\n",
    "\\end{array} \\right. \n",
    "\\end{equation}\n",
    "\n",
    "Pamiętając, że $ a = \\dfrac{dV}{dt}$ otrzymujemy:\n",
    "\\begin{equation}\n",
    "\\left\\{ \\begin{array}{l}\n",
    "m \\cdot \\dfrac{dV_x}{dt} = - \\gamma_x \\cdot V_x, \\\\\n",
    "m \\cdot \\dfrac{dV_y}{dt} =  \\gamma_y \\cdot V_y - m \\cdot g.\\\\\n",
    "\\end{array} \\right. \n",
    "\\end{equation}\n",
    "Następnie dzielimy oba równania obustronnie przez $m$:\n",
    "\\begin{equation}\n",
    "\\left\\{ \\begin{array}{l}\n",
    "\\dfrac{dV_x}{dt} = \\dfrac{- \\gamma_x \\cdot V_x}{m}, \\\\\n",
    "\\dfrac{dV_y}{dt} =  \\dfrac{\\gamma_y \\cdot V_y}{m} -  g .\\\\\n",
    "\\end{array} \\right.\n",
    "\\end{equation}\n",
    "Przekształcamy równania i całkujemy:\n",
    "\\begin{equation}\n",
    "\\left\\{ \\begin{array}{l}\n",
    "\\int \\dfrac{dV_x}{ \\dfrac{- \\gamma_x \\cdot V_x}{m}} = \\int dt,\\\\\n",
    "\\int \\dfrac{dV_y}{\\dfrac{\\gamma_y \\cdot V_y}{m} -  g} =  \\int dt .\\\\\n",
    "\\end{array} \\right.\n",
    "\\end{equation}"
   ]
  },
  {
   "cell_type": "markdown",
   "metadata": {},
   "source": [
    "Najpierw rozwiążemy równanie dla osi X:\n",
    "\\begin{equation}\n",
    "\\int \\dfrac{dV_x}{ \\dfrac{- \\gamma_x \\cdot V_x}{m}} = - \\dfrac{m}{\\gamma_x} \\cdot \\int \\frac{1}{V_x} dV_x = - \\dfrac{m}{\\gamma_x} \\cdot \\ln{|V_x|} + C = t,\n",
    "\\end{equation}\n",
    "<br>\n",
    "\\begin{equation}\n",
    "-\\dfrac{m}{\\gamma_x}\\cdot \\ln{|V_x|}= t - C ,\n",
    "\\end{equation}\n",
    "<br>\n",
    "\\begin{equation}\n",
    "\\ln{|V_x|} = - \\dfrac{t \\cdot \\gamma_x}{m} + \\dfrac{C \\cdot \\gamma_x}{m}\n",
    "\\end{equation}\n",
    "<br>\n",
    "\\begin{equation}\n",
    "V_x = (e)^ {-\\dfrac{t\\gamma_x}{m}} \\cdot (e)^{C{\\dfrac{\\gamma_x}{m}}}.\n",
    "\\end{equation}"
   ]
  },
  {
   "cell_type": "markdown",
   "metadata": {},
   "source": [
    "Teraz możemy przejść do równania dla osi Y:\n",
    "\\begin{equation}\n",
    "\\int \\dfrac{dV_y}{\\dfrac{\\gamma_y}{m}\\cdot V_y -g} = \\dfrac{m}{\\gamma_y}\\cdot \\ln{|\\dfrac{\\gamma_y}{m}V_y - g|} +C = t. \n",
    "\\end{equation}\n",
    "<br>\n",
    "\\begin{equation}\n",
    "\\dfrac{m}{\\gamma_y}\\cdot \\ln{|\\dfrac{\\gamma_y}{m}V_y - g|} = t - C ,\n",
    "\\end{equation}\n",
    "<br>\n",
    "\\begin{equation}\n",
    "\\ln{|\\dfrac{\\gamma_y}{m}V_y - g|} =\\dfrac{t\\gamma_y}{m} - \\dfrac{C\\gamma_y}{m} ,\n",
    "\\end{equation}\n",
    "<br>\n",
    "\\begin{equation}\n",
    "\\dfrac{\\gamma_y}{m}V_y - g = e^{\\left(\\dfrac{t\\gamma_y}{m} - \\dfrac{C\\gamma_y}{m}\\right)},\n",
    "\\end{equation}\n",
    "<br>\n",
    "\\begin{equation}\n",
    "\\dfrac{\\gamma_y}{m}V_y = e^{\\left(\\dfrac{t\\gamma_y}{m} - \\dfrac{C\\gamma_y}{m}\\right)} +g ,\n",
    "\\end{equation}\n",
    "<br>\n",
    "\\begin{equation}\n",
    "V_y = \\dfrac{m}{\\gamma_y}e^{\\left(\\dfrac{t\\gamma_y}{m} - \\dfrac{C\\gamma_y}{m}\\right)} +\\dfrac{m}{\\gamma_y}g.\n",
    "\\end{equation}"
   ]
  },
  {
   "cell_type": "markdown",
   "metadata": {},
   "source": [
    "gdzie: <br>\n",
    "$V_x$ - prędkość x'owa, <br>\n",
    "$V_y$ - prędkość y'owa, <br>\n",
    "$m$ - masa skoczka, <br>\n",
    "$g$ - współczynnik grawitacji, <br>\n",
    "$t$ - czas, <br>\n",
    "$S_x$, $S_y$ - powierzchnia skoczka względem osi, <br>\n",
    "$\\gamma_x$, $\\gamma_y$  - stałe, <br>"
   ]
  },
  {
   "cell_type": "markdown",
   "metadata": {},
   "source": [
    "#### Model kwadratowy:\n",
    "\\begin{equation}\n",
    " F = -C_d (V_x, V_y) |V| = - C_d (V_x, V_y) \\sqrt{V_x^2+V_y^2}. \n",
    "\\end{equation}"
   ]
  },
  {
   "cell_type": "markdown",
   "metadata": {},
   "source": [
    "W przypadku ruchu w dwóch wymiarach prędkość wykorzystywana w sile oporu jest długością wektora predkości $\\text{v}=(V_x,V_y)$ i jest równa $|\\text{v}|=\\sqrt{V_x^2+V_y^2}$. Ponieważ siła oporu działa wzdłuż unormowanego wektora prędkości to siła postaci $ F_d \\cdot \\dfrac{\\text{v}}{|\\text{v}|} $ będzie działać na skoczka. <br>\n",
    "Równanie staje się nieliniowe i aby je rozwiązać wykorzystamy schemat Eulera. "
   ]
  },
  {
   "cell_type": "markdown",
   "metadata": {},
   "source": [
    "## Budowa skoczni\n",
    "\n",
    "Skocznia narciarska zbudowana jest zgodnie ze standardami International Ski Federation. Wytyczne te zostały napisane z myślą o bezpieczeństwie zawodników, tak aby wszystkie oddziaływania fizyczne oraz biomechaniczne były kontrolowane oraz łatwe do przewidzenia.\n",
    "\n",
    "Najważniejsze wymiary skoczni to długość horyzontalna H mierzona od progu do punktu K oraz odległość wertykalna H od progu do punktu K. <br> Stosunek H:L jest tym większy im dłuższa jest skocznia i wynosi zazwyczaj $0.45 < H:L < 0.60$. Punkt K jest punktem przegięcia skoczni narciarskiej, dlatego wysokość powierzchni lądowania (stoku) można wyrazić jako funkcję wielomianową trzeciego stopnia. [[5](Bibliografia.ipynb)]"
   ]
  },
  {
   "cell_type": "markdown",
   "metadata": {},
   "source": [
    "![skocznia](budowa_skoczni.png)"
   ]
  },
  {
   "cell_type": "markdown",
   "metadata": {},
   "source": [
    "Początkowe nachylenie stoku powinno być większe niż kąt wyjścia z progu, ponieważ tor lotu skoczka w stosunku do powierzchni powinien przypominać parabolę, czyli wysokość nad stokiem początkowo rośnie, w połowie lotu przyjmuje maksimum, a następnie maleje aż do lądowania.\n",
    "\n",
    "Wykorzystamy funkcję:\n",
    "$\n",
    "\\dfrac{1}{3a}x^3 - x^2 + c\n",
    "$\n",
    "aby znaleźć funkcję z punktem przegięcia dla żądanego $a$."
   ]
  },
  {
   "cell_type": "code",
   "execution_count": 33,
   "metadata": {
    "scrolled": true
   },
   "outputs": [
    {
     "data": {
      "image/png": "[encoded data removed]",
      "text/plain": [
       "<Figure size 432x288 with 1 Axes>"
      ]
     },
     "metadata": {
      "needs_background": "light"
     },
     "output_type": "display_data"
    }
   ],
   "source": [
    "class Hill:\n",
    "\n",
    "    def __init__(self, length, velocity):\n",
    "        '''\n",
    "        :param length: horyzontalny dystans od progu do punktu K\n",
    "        :param velocity: prędkość wyjścia z progu\n",
    "        '''\n",
    "        self.velocity = velocity\n",
    "        self.length = length\n",
    "        self.height = self.length*(0.6)\n",
    "        self.draw_length = self.length*1.25\n",
    "        self.modifier = ((2/3)*((self.draw_length)**2))/self.height\n",
    "\n",
    "    def curve(self, x):\n",
    "        '''\n",
    "        :return: wielomian trzeciego stopnia od x\n",
    "        '''\n",
    "        # nie chcemy zaczynać z x=0, ponieważ oczekujemy że stok pod progiem od razu będzie nachylony\n",
    "        x= x +self.draw_length - self.length\n",
    "        return ((1/(3*(self.draw_length)))*(x**3) - (x**2))/self.modifier + self.height\n",
    "\n",
    "\n",
    "import numpy\n",
    "skocznia = Hill(100,25)\n",
    "x_data = numpy.arange(0,skocznia.length*1.75, 0.01)\n",
    "y_data = [skocznia.curve(x) for x in x_data]\n",
    "from matplotlib import pyplot\n",
    "pyplot.plot(x_data,y_data)\n",
    "pyplot.scatter(skocznia.length,0)\n",
    "pyplot.annotate(\"K\", (skocznia.length,0), size=20)\n",
    "pyplot.title(\"Skocznia\")\n",
    "pyplot.xlabel(\"Długość\")\n",
    "pyplot.ylabel(\"Wysokość\")\n",
    "pyplot.show()"
   ]
  },
  {
   "cell_type": "markdown",
   "metadata": {},
   "source": [
    "## Reprezentacja skoczka\n",
    "Skoczkowi przyznamy daną masę oraz będziemy chcieli przemieszczać go po płaszczyźnie x,y."
   ]
  },
  {
   "cell_type": "code",
   "execution_count": 34,
   "metadata": {},
   "outputs": [],
   "source": [
    "class Jumper:\n",
    "\n",
    "    def __init__(self, mass):\n",
    "        self.mass = mass\n",
    "        self.area = 20\n",
    "        self.position = 0,0\n",
    "\n",
    "    def move(self, x, y):\n",
    "        self.position = self.position[0] + x, self.position[1] + y\n"
   ]
  },
  {
   "cell_type": "markdown",
   "metadata": {},
   "source": [
    "### Przybliżanie metodą Eulera\n",
    "\n",
    "Najpierw zobaczmy <b>model liniowy:</b>  \n",
    "\\begin{equation}\n",
    "\\frac{dV}{dt} = -C_d \\cdot \\frac{V}{|V|} \\cdot |V| ,\n",
    "\\end{equation}\n",
    "gdzie:  <br>\n",
    "$V$ - wektor prędkośći $\\left(V_x,V_y - g\\right)$, <br>\n",
    "$|V| =  \\sqrt{V_x^2+V_y^2}$ - długość wektora prędkości. !? Dobrze?"
   ]
  },
  {
   "cell_type": "code",
   "execution_count": 35,
   "metadata": {},
   "outputs": [
    {
     "data": {
      "image/png": "[encoded data removed]",
      "text/plain": [
       "<Figure size 432x288 with 1 Axes>"
      ]
     },
     "metadata": {
      "needs_background": "light"
     },
     "output_type": "display_data"
    }
   ],
   "source": [
    "delta_time = 0.001\n",
    "time = numpy.arange(0,10,delta_time)\n",
    "VX, VY = [skocznia.velocity],[0]\n",
    "Cd = 0.2 / Jumper(55).mass\n",
    "g = 9.81\n",
    "\n",
    "def linear_model(v):\n",
    "    '''\n",
    "    liniowa zależność oporu powietrza do prędkości\n",
    "    :param v: tuple (Vx(i), Vy(i))\n",
    "    :return : tuple (Vx(i+1),Vy(i+1))\n",
    "    '''\n",
    "    return -Cd*v[0]*delta_time, (-Cd*v[1] - g)*delta_time\n",
    "\n",
    "for t in time[1:]:\n",
    "    x,y = linear_model((VX[-1],VY[-1]))\n",
    "    VX.append(VX[-1] + x)\n",
    "    VY.append(VY[-1] + y)\n",
    "    \n",
    "pyplot.plot(time,VX)\n",
    "pyplot.title(\"Prędkość $V_x$(t) - model liniowy\")\n",
    "pyplot.xlabel(\"t [s]\")\n",
    "pyplot.ylabel(\"$V_x$ [$\\dfrac{m}{s}$]\")\n",
    "pyplot.ylim(0, VX[0]+1)\n",
    "pyplot.show()"
   ]
  },
  {
   "cell_type": "code",
   "execution_count": 36,
   "metadata": {},
   "outputs": [
    {
     "name": "stdout",
     "output_type": "stream",
     "text": [
      "-96.32850062797866\n"
     ]
    },
    {
     "data": {
      "image/png": "[encoded data removed]",
      "text/plain": [
       "<Figure size 432x288 with 1 Axes>"
      ]
     },
     "metadata": {
      "needs_background": "light"
     },
     "output_type": "display_data"
    }
   ],
   "source": [
    "pyplot.plot(time,VY)\n",
    "pyplot.title(\"Prędkość $V_y(t)$ - model liniowy\")\n",
    "pyplot.xlabel(\"t [s]\")\n",
    "pyplot.ylabel(\"$V_y$ [$\\dfrac{m}{s}$]\")\n",
    "pyplot.ylim()\n",
    "pyplot.show()"
   ]
  },
  {
   "cell_type": "markdown",
   "metadata": {},
   "source": [
    "Teraz przejdźmy do <b>modelu zależności kwadratowej:</b>\n",
    "\\begin{equation}\n",
    "\\dfrac{dV}{dt} = -C_d\\cdot \\dfrac{V}{|V|} \\cdot |V|^2 .\n",
    "\\end{equation}"
   ]
  },
  {
   "cell_type": "code",
   "execution_count": 37,
   "metadata": {},
   "outputs": [
    {
     "data": {
      "image/png": "[encoded data removed]",
      "text/plain": [
       "<Figure size 432x288 with 1 Axes>"
      ]
     },
     "metadata": {
      "needs_background": "light"
     },
     "output_type": "display_data"
    }
   ],
   "source": [
    "def square_model(v):\n",
    "    '''\n",
    "    kwadratowa zależność oporu powietrza do prędkości\n",
    "    :param v: tuple (Vx(i), Vy(i))\n",
    "    :return : tuple (Vx(i+1),Vy(i+1))\n",
    "    '''\n",
    "    l = (v[0] ** 2 + v[1] ** 2) ** (1 / 2)\n",
    "    return -Cd * v[0] * l*delta_time, (-Cd * v[1] * l - g)*delta_time\n",
    "\n",
    "VX, VY = [skocznia.velocity],[0]\n",
    "for t in time[1:]:\n",
    "    x,y = square_model((VX[-1],VY[-1]))\n",
    "    VX.append(VX[-1] + x)\n",
    "    VY.append(VY[-1] + y)\n",
    "    \n",
    "pyplot.plot(time,VX)\n",
    "pyplot.title(\"Prędkość $V_x$ (t) - model kwadratowy\")\n",
    "pyplot.xlabel(\"t (s)\")\n",
    "pyplot.ylabel(\"$V_x$ [$\\dfrac{m}{s}]$\")\n",
    "pyplot.ylim(0, VX[0]+1)\n",
    "pyplot.show()"
   ]
  },
  {
   "cell_type": "code",
   "execution_count": 38,
   "metadata": {},
   "outputs": [
    {
     "name": "stdout",
     "output_type": "stream",
     "text": [
      "-48.961086029811256\n"
     ]
    },
    {
     "data": {
      "image/png": "[encoded data removed]",
      "text/plain": [
       "<Figure size 432x288 with 1 Axes>"
      ]
     },
     "metadata": {
      "needs_background": "light"
     },
     "output_type": "display_data"
    }
   ],
   "source": [
    "pyplot.plot(time,VY)\n",
    "pyplot.title(\"Prędkość $V_y$ (t) - model kwadratowy\")\n",
    "pyplot.xlabel(\"t (s)\")\n",
    "pyplot.ylabel(\"$ V_y $ [$\\dfrac{m}{s}$]\")\n",
    "pyplot.ylim()\n",
    "pyplot.show()"
   ]
  },
  {
   "cell_type": "markdown",
   "metadata": {},
   "source": [
    "# Opór powietrza\n",
    "Powyższe wzory traktują jednak skoczka jako obiekt posiadający jednakowe właściwości aerodynamiczne, bezwzględnie na jego ustawienie w powietrzu.\n",
    "Spróbujmy przybliżyć te właściwości. Potraktujemy powierzchnię skoczka jako płaska figura o powierzchni $A$ i o jakimś nachyleniu $\\alpha$ względem osi $Ox$\n",
    "\n",
    "rzut na oś $Ox$ skoczka wynosi $A*\\sin{\\alpha}$\n",
    "\n",
    "rzut na oś $Oy$ skoczka wynosi $A*\\cos{\\alpha}$\n",
    "\n",
    "Uwzględniając tę właściwość aerodynamiczną, napiszmy równanie\n",
    "\\begin{equation}\n",
    "\\frac{dV}{dt} = -\\vec{c_d} \\cdotp \\frac{V}{|V|} \\cdot |V| ,\n",
    "\\end{equation}\n",
    "gdzie $\\vec{c_d} = \\left(C_d \\cdot A \\cdot \\sin{\\alpha}, C_d \\cdot A \\cdot \\cos{\\alpha}\\right)$ \n"
   ]
  },
  {
   "cell_type": "code",
   "execution_count": 57,
   "metadata": {},
   "outputs": [
    {
     "data": {
      "image/png": "[encoded data removed]",
      "text/plain": [
       "<Figure size 432x288 with 1 Axes>"
      ]
     },
     "metadata": {
      "needs_background": "light"
     },
     "output_type": "display_data"
    }
   ],
   "source": [
    "from math import sin, cos, pi\n",
    "delta_time = 0.001\n",
    "time = numpy.arange(0,10,delta_time)\n",
    "jumper = Jumper(55)\n",
    "Cd = 1 / jumper.mass\n",
    "g = 9.81\n",
    "angle = pi/12\n",
    "area_coefficient = sin(angle), cos(angle)\n",
    "\n",
    "def linear_model(v):\n",
    "    '''\n",
    "    liniowa zależność oporu powietrza do prędkości\n",
    "    :param v: tuple (Vx(i), Vy(i))\n",
    "    :return : tuple (Vx(i+1),Vy(i+1))\n",
    "    '''\n",
    "    return -Cd*v[0]*area_coefficient[0]*delta_time, (-Cd*v[1]*area_coefficient[1] - g)*delta_time\n",
    "\n",
    "def square_model(v):\n",
    "    '''\n",
    "    kwadratowa zależność oporu powietrza do prędkości\n",
    "    :param v: tuple (Vx(i), Vy(i))\n",
    "    :return : tuple (Vx(i+1),Vy(i+1))\n",
    "    '''\n",
    "    l = (v[0] ** 2 + v[1] ** 2) ** (1 / 2)\n",
    "    return -Cd * v[0] * l*area_coefficient[0]*delta_time, (-Cd * v[1] * l*area_coefficient[1] - g)*delta_time\n",
    "\n",
    "linear_VX, linear_VY = [skocznia.velocity],[0]\n",
    "square_VX, square_VY = [skocznia.velocity],[0]\n",
    "for t in time[1:]:\n",
    "    x,y = linear_model((linear_VX[-1],linear_VY[-1]))\n",
    "    linear_VX.append(linear_VX[-1] + x)\n",
    "    linear_VY.append(linear_VY[-1] + y)\n",
    "for t in time[1:]:\n",
    "    x,y = square_model((square_VX[-1],square_VY[-1]))\n",
    "    square_VX.append(square_VX[-1] + x)\n",
    "    square_VY.append(square_VY[-1] + y)\n",
    "    \n",
    "pyplot.plot(time,linear_VX)\n",
    "pyplot.plot(time,square_VX)\n",
    "pyplot.title(\"Prędkość $V_x$(t) z uwzględniem opływowości - porównanie\")\n",
    "pyplot.xlabel(\"t [s]\")\n",
    "pyplot.ylabel(\"$V_x$ [$\\dfrac{m}{s}$]\")\n",
    "pyplot.ylim(0)\n",
    "pyplot.show()"
   ]
  },
  {
   "cell_type": "code",
   "execution_count": null,
   "metadata": {},
   "outputs": [],
   "source": [
    "pyplot.plot(time,linear_VY)\n",
    "pyplot.plot(time,square_VY)\n",
    "pyplot.title(\"Prędkość $V_y$(t) z uwzględniem opływowości - porównanie\")\n",
    "pyplot.xlabel(\"t [s]\")\n",
    "pyplot.ylabel(\"$V_x$ [$\\dfrac{m}{s}$]\")\n",
    "pyplot.show()"
   ]
  },
  {
   "cell_type": "code",
   "execution_count": 39,
   "metadata": {},
   "outputs": [
    {
     "data": {
      "image/png": "[encoded data removed]",
      "text/plain": [
       "<Figure size 432x288 with 1 Axes>"
      ]
     },
     "metadata": {
      "needs_background": "light"
     },
     "output_type": "display_data"
    }
   ],
   "source": [
    "from animation import SkiJumpAnimation\n",
    "wisła = Hill(100,25)\n",
    "okienko = SkiJumpAnimation(wisła)\n",
    "okienko.show((Jumper(50),Jumper(70)), cd=0.1, g=9.81)"
   ]
  },
  {
   "cell_type": "markdown",
   "metadata": {},
   "source": [
    "# Ruch\n"
   ]
  },
  {
   "cell_type": "markdown",
   "metadata": {},
   "source": [
    "## Analiza wyników\n",
    "Przy małych prędkościach używamy modelu liniowego, który pokazuje, powolne spadanie wartości prędkości $V_x$, natomiast bardzo szybko malejące $ V_y$. <br> W przypadku większych prędkości korzystamy z modelu kwadratowego, z którego wynika, że skoczek w takim samym czasie będzie spadał znacznie wolniej niż w przypadku modelu liniowego, natomiast jego prędkość $V_x$ będzie spadała dużo szybciej."
   ]
  },
  {
   "cell_type": "markdown",
   "metadata": {},
   "source": [
    " ## [Bibliografia](Bibliografia.ipynb)"
   ]
  }
 ],
 "metadata": {
  "kernelspec": {
   "display_name": "Python 3",
   "language": "python",
   "name": "python3"
  },
  "language_info": {
   "codemirror_mode": {
    "name": "ipython",
    "version": 3
   },
   "file_extension": ".py",
   "mimetype": "text/x-python",
   "name": "python",
   "nbconvert_exporter": "python",
   "pygments_lexer": "ipython3",
   "version": "3.7.3"
  }
 },
 "nbformat": 4,
 "nbformat_minor": 4
}
