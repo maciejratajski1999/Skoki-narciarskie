{
 "cells": [
  {
   "cell_type": "code",
   "execution_count": 1,
   "metadata": {},
   "outputs": [
    {
     "name": "stdout",
     "output_type": "stream",
     "text": [
      "hello world!\n"
     ]
    }
   ],
   "source": [
    "print(\"hello world!\")"
   ]
  },
  {
   "cell_type": "markdown",
   "metadata": {},
   "source": [
    "# Skoczek narciarski"
   ]
  },
  {
   "cell_type": "markdown",
   "metadata": {},
   "source": [
    "Olimpijski ideał, by jechać szybciej, skakać dalej i skakać wyżej niż przeciwnik, ma kluczowe znaczenie w sporcie wyczynowym. Skoki narciarskie są znane już od XIX wieku. Bardzo często zdażało się, że sportowcy mieli niedowagę dlatego postanowiono zbadać od czego zależy wygrana i wprowadzono nowe zasady. Im mniejsza waga ciała tym krótsze narty (\"mniejsze skrzydłą\"), które czym dłuższe tym lepiej sprawdzają się do latania.\n",
    "Celem jest wykonanie jak najdłuższego skoku po rozpędzeniu się i odbiciu od progu skoczni.\n",
    "Ocenia się zasięg oraz styl lotu. Długość skoku mierzona jest od progu skoczni do pięty tylnego buta skoczka w chwili zetknięcia się narty na całej długości z zeskokiem z dokładnością do 0,5 metra. \n",
    "#### Podczas lotu na sportowca działają: <br>\n",
    " "
   ]
  },
  {
   "cell_type": "markdown",
   "metadata": {},
   "source": [
    "- siła grawitacji $F_g$\n",
    "\\begin{equation}\n",
    "F_g = m \\cdot g ,\n",
    "\\end{equation}"
   ]
  },
  {
   "cell_type": "markdown",
   "metadata": {},
   "source": [
    "- siła nośna $F_l$\n",
    "\\begin{equation}\n",
    "F_l = \\dfrac{\\rho}{2} \\cdot v^2 \\cdot c_l \\cdot A = \\dfrac{\\rho}{2} \\cdot v^2 \\cdot L,\n",
    "\\end{equation}"
   ]
  },
  {
   "cell_type": "markdown",
   "metadata": {},
   "source": [
    "- siła oporu $F_d$\n",
    "\\begin{equation}\n",
    "F_d = \\dfrac{\\rho}{2} \\cdot v^2 \\cdot c_d \\cdot A = \\dfrac{\\rho}{2} \\cdot v^2 \\cdot D ,\n",
    "\\end{equation}"
   ]
  },
  {
   "cell_type": "markdown",
   "metadata": {},
   "source": [
    "gdzie: <br>\n",
    "m - masa, <br>\n",
    "g - współczynnik grawitacji, <br>\n",
    "$\\rho$  - gęstość powietrza, <br>\n",
    "v - rzeczywista prędkość, <br>\n",
    "A - płaski obszar powierzchni podnoszonej/oporu, powierzchnia rzutu ciała na płaszczyznę prostopadłą do wektora prędkości ciała względem płynu (upraszczając, jest to powierzchnia ‘wystawiona’ w kierunku przepływu),<br>\n",
    "$c_l$ - współczynnik siły nośnej przy żądanym kącie natarcia, liczba Reynolds'a,<br>\n",
    "$c_d$ - współczynnik siły oporu,<br>\n",
    "L = $c_l \\cdot A $,<br>\n",
    "D = $c_d \\cdot A $.<br>"
   ]
  },
  {
   "cell_type": "markdown",
   "metadata": {},
   "source": [
    "![probny](https://d-art.ppstatic.pl/kadry/k/r/1/72/be/5a6cdfaf200b9_o_medium.jpg)"
   ]
  },
  {
   "cell_type": "markdown",
   "metadata": {},
   "source": [
    "Prędkość ruchu po torze lotu $v$ ma składowe x' i y':"
   ]
  },
  {
   "cell_type": "markdown",
   "metadata": {},
   "source": [
    "\\begin{equation}\n",
    "v^2 = (x')^2 + (y')^2\n",
    "\\end{equation}"
   ]
  },
  {
   "cell_type": "markdown",
   "metadata": {},
   "source": [
    "Sportowiec może silnie wpływać na siły aerodynamiczne, zmieniając swoją postawę. Może wpływać na\n",
    "opór, siłę nośną i moment obrotowy, a tym samym znacząco wpływają na zmiany jego pozycje w locie\n",
    "względem strumienia powietrza. Tor lotu opisują następujące nieliniowe równania różniczkowe\n",
    "które można rozwiązać numerycznie za pomocą odpowiednich procedur iteracyjnych:"
   ]
  },
  {
   "attachments": {},
   "cell_type": "raw",
   "metadata": {},
   "source": [
    "\\begin{equation}\n",
    "v_x' = \\dfrac{-F_d \\cdot \\cos \\varphi - F_l \\sin \\varphi}{m}  \n",
    "\\hspace{1cm}\n",
    "v_y' = \\dfrac{-F_d \\sin \\varphi - F_l \\cos \\varphi}{m} - g\n",
    "\\end{equation}\n",
    "\\\n",
    "\\begin{equation}\n",
    "x' = v_x \\hspace{1cm}\n",
    "y' = v_y\n",
    "\\end{equation}"
   ]
  },
  {
   "cell_type": "markdown",
   "metadata": {},
   "source": [
    "gdzie: <br>\n",
    "$F_d$ - siła oporu,<br>\n",
    "$F_l$  - siła nośna, <br>\n",
    "$\\varphi$ - kąt nachylenia."
   ]
  },
  {
   "cell_type": "markdown",
   "metadata": {},
   "source": [
    "\\begin{equation}\n",
    "\\dfrac{dV_x}{dt} = \\dfrac{G_x \\cdot (V_x)^2}{m}\n",
    "\\hspace{3cm}\n",
    "\\dfrac{dV_y}{dt} = \\dfrac{G_y\\cdot (V_y)^2}{m} -g\n",
    "\\end{equation}\n",
    "\\\n",
    "\\begin{equation}\n",
    "G_x = \\frac{1}{2}\\cdot c_d \\cdot S_x \\cdot \\rho  \n",
    "\\hspace{3cm}\n",
    "G_y = \\frac{1}{2}\\cdot c_d \\cdot S_y \\cdot \\rho\n",
    "\\end{equation}\n",
    "\\\n",
    "\\begin{equation}\n",
    "V_x = - \\dfrac{1}{\\dfrac{G_x}{m} \\cdot t + V_{Xo}}\n",
    "\\hspace{3cm}\n",
    "V_y = - \\sqrt{\\dfrac{m \\cdot g}{G_y}} \\cdot \\tanh\\sqrt{\\dfrac{m \\cdot g}{G_y}} \\cdot t\n",
    "\\end{equation}"
   ]
  },
  {
   "cell_type": "markdown",
   "metadata": {},
   "source": [
    "gdzie: <br>\n",
    "$V_x$ - prędkość x'owa, <br>\n",
    "$V_y$ - prędkość y'owa, <br>\n",
    "$m$ - masa skoczka, <br>\n",
    "$g$ - współczynnik grawitacji, <br>\n",
    "$t$ - czas, <br>\n",
    "$c_d$ - współczynnik siły oporu/nośnej,<br>\n",
    "$S_x$, $S_y$ - powierzchnia, <br>\n",
    "$\\rho$  - gęstość powietrza, <br>"
   ]
  },
  {
   "cell_type": "markdown",
   "metadata": {},
   "source": [
    "Niewiele wiadomo o siłach oporu i siły nośnej działających na złożoną strukturę ludzkiego ciała\n",
    "w strumieniu powietrza. Z danych aerodynamicznych dla pozycji lotu jasno wynika, że siły nośne\n",
    "w skokach narciarskich mają taką samą wielkość jak siły oporu, a długość lotu jest bardzo wrażliwa\n",
    "zmiany w obu."
   ]
  }
 ],
 "metadata": {
  "kernelspec": {
   "display_name": "Python 3",
   "language": "python",
   "name": "python3"
  },
  "language_info": {
   "codemirror_mode": {
    "name": "ipython",
    "version": 3
   },
   "file_extension": ".py",
   "mimetype": "text/x-python",
   "name": "python",
   "nbconvert_exporter": "python",
   "pygments_lexer": "ipython3",
   "version": "3.7.6"
  }
 },
 "nbformat": 4,
 "nbformat_minor": 4
}
