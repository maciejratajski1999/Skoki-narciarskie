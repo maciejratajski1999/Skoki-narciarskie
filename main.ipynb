{
 "cells": [
  {
   "cell_type": "markdown",
   "metadata": {},
   "source": [
    "# Skoczek narciarski"
   ]
  },
  {
   "cell_type": "markdown",
   "metadata": {},
   "source": [
    "Skoki narciarskie są znane już od XIX wieku, natomiast nalęzą do olimpijskich sportów zimowych od 1924r. Celem każdego skoczka jest wykonanie dłuższego i wyższego skoku niż jego przeciwnik po rozpędzeniu się i odbiciu od progu skoczni. Podczas zawodów oceniany jest zasięg i styl lotu. Długość takiego skoku lub tzw. lotu (jeśli z wiekszej skoczni np. mamuciej) liczona jest od progu skoczni do pięty tylnego buta skoczka w chwili zetknięcia się narty na całej długości ze stokiem z dokładnością do 0,5 metra.\n",
    "Aby lecieć dłużej trzeba pokonywać grawitację, z tego powodu bardzo często zdażało się, że sportowcy mieli niedowagę, wiedząc, iż czym mniejsza waga, tym wolniejsze spadanie. Aby zapobiec chorobom żywieniowym postanowiono zbadać od czego zależy wygrana i wprowadzono nowe zasady. Ustalono, że siła oporu i siła nośna jest zależna od powierzchni całego skoczka i jego sprzętu. Zatem czym mniejsze narty, tym słabsza była siła nośna i krótszy skok. Wprowadzono wtedy zasadę dotyczącą nart - miały one być tym krótsze im mniejsza waga (\"mniejsze skrzydła\"), natomiast nie mogą być one dłuższe niż 145/146% wzrostu zawodnika. Jeżeli masa ciała zawodnika nie spełnia minimalnego BMI 21 (ubrany w sprzęcie) to skoczek musi używać krótszych nart.\n",
    "\n",
    "#### Podczas lotu na sportowca działają: <br>"
   ]
  },
  {
   "cell_type": "markdown",
   "metadata": {},
   "source": [
    "- siła grawitacji $F_g$\n",
    "\\begin{equation}\n",
    "F_g = m \\cdot g ,\n",
    "\\end{equation}"
   ]
  },
  {
   "cell_type": "markdown",
   "metadata": {},
   "source": [
    "- siła nośna $F_l$\n",
    "\\begin{equation}\n",
    "F_l = \\dfrac{\\rho}{2} \\cdot v^2 \\cdot c_l \\cdot A = \\dfrac{\\rho}{2} \\cdot v^2 \\cdot L,\n",
    "\\end{equation}"
   ]
  },
  {
   "cell_type": "markdown",
   "metadata": {},
   "source": [
    "- siła oporu $F_d$\n",
    "\\begin{equation}\n",
    "F_d = \\dfrac{\\rho}{2} \\cdot c_d \\cdot A \\cdot \\text{v}^2 = \\dfrac{\\rho}{2} \\cdot D  \\cdot \\text{v}^2 = \\gamma \\cdot \\text{v}^2,\n",
    "\\end{equation}"
   ]
  },
  {
   "cell_type": "markdown",
   "metadata": {},
   "source": [
    "gdzie: <br>\n",
    "m - masa, <br>\n",
    "g - współczynnik grawitacji, <br>\n",
    "$\\rho$  - gęstość powietrza, <br>\n",
    "v - rzeczywista prędkość, <br>\n",
    "A - płaski obszar powierzchni podnoszonej/oporu, powierzchnia rzutu ciała na płaszczyznę prostopadłą do wektora prędkości ciała względem płynu (upraszczając, jest to powierzchnia ‘wystawiona’ w kierunku przepływu),<br>\n",
    "$c_l$ - współczynnik siły nośnej przy żądanym kącie natarcia, liczba Reynolds'a,<br>\n",
    "$c_d$ - współczynnik siły oporu,<br>\n",
    "L = $c_l \\cdot A $,<br>\n",
    "D = $c_d \\cdot A $.<br>\n",
    "$\\gamma = \\dfrac {\\rho}{2} \\cdot D$  - stała<br>"
   ]
  },
  {
   "cell_type": "markdown",
   "metadata": {},
   "source": [
    "![probny](https://d-art.ppstatic.pl/kadry/k/r/1/72/be/5a6cdfaf200b9_o_medium.jpg)"
   ]
  },
  {
   "cell_type": "markdown",
   "metadata": {},
   "source": [
    "Prędkość ruchu po torze lotu v ma składowe x' i y':\n",
    "\\begin{equation}\n",
    "\\text{v}^2 = (\\text{x}')^2 + (\\text{y}')^2, \\\\\n",
    "\\text{v} = \\sqrt{(\\text{x}')^2 + (\\text{y}')^2}.\n",
    "\\end{equation}    \n",
    "Sportowiec może silnie wpływać na siły aerodynamiczne poprzez zmianę ułożenia swojego ciała, tj. zwiększając lub zmniejszając swoją powierzchnię. Może to wpływać na opór i siłę nośną (i moment obrotowy), a tym samym znacząco wpływają na zmiany jego pozycji w locie względem strumienia powietrza (kąt nachylenia). Tor lotu opisują następujące nieliniowe równania różniczkowe, które można rozwiązać numerycznie za pomocą odpowiednich procedur iteracyjnych."
   ]
  },
  {
   "cell_type": "markdown",
   "metadata": {},
   "source": [
    "Aby znaleźć równanie toru lotu wykorzystujemy drugą zasadę dynamiki Newtona i rozdzielamy nasze obliczenia na tor lotu względem osi X i Y."
   ]
  },
  {
   "cell_type": "markdown",
   "metadata": {},
   "source": [
    "HAlo czy $F_y$ ma dobra kolejnosc odejmowania?! <br>\n",
    "Czy powinno byc $\\gamma_x$ i $\\gamma_y$ ?? <br>\n",
    "CZy robic $V_x^2$ i y tez czy robic oba z kwadratem czy oba bez? czy i to i to ???!!!\n",
    "\\begin{equation}\n",
    "\\left\\{ \\begin{array}{l}\n",
    "F_x = -F_d \\\\\n",
    "F_y = F_l - F_g\\\\\n",
    "\\end{array} \\right. \n",
    "\\end{equation}\n",
    "\n",
    "\\begin{equation}\n",
    "\\left\\{ \\begin{array}{l}\n",
    "m \\cdot a = - \\gamma_x \\cdot V_x \\\\\n",
    "m \\cdot a =  \\gamma_y \\cdot V_y - m \\cdot g\\\\\n",
    "\\end{array} \\right. \n",
    "\\end{equation}\n",
    "\n"
   ]
  },
  {
   "cell_type": "markdown",
   "metadata": {},
   "source": [
    "Pamiętając, że $ a = \\dfrac{dV}{dt} = \\dfrac{d^2x}{dt^2}$\n",
    "    otrzymujemy :"
   ]
  },
  {
   "cell_type": "markdown",
   "metadata": {},
   "source": [
    "\\begin{equation}\n",
    "m \\cdot \\dfrac{dV_x}{dt} = - \\gamma \\cdot V_x,\n",
    "\\hspace{1cm}\n",
    "m \\cdot \\dfrac{dV_y}{dt} =  \\gamma \\cdot V_y - m \\cdot g.\n",
    "\\end{equation}"
   ]
  },
  {
   "cell_type": "markdown",
   "metadata": {},
   "source": [
    "Następnie dzielimy obustronnie przez $m$\n",
    "\\begin{equation}\n",
    "\\dfrac{dV_x}{dt} = \\dfrac{- \\gamma \\cdot V_x}{m},\n",
    "\\hspace{1cm}\n",
    "\\dfrac{dV_y}{dt} =  \\dfrac{\\gamma \\cdot V_y}{m} -  g .\n",
    "\\end{equation}"
   ]
  },
  {
   "cell_type": "markdown",
   "metadata": {},
   "source": [
    "Przekształcamy równania:\n",
    "\\begin{equation}\n",
    "\\int \\dfrac{dV_x}{ \\dfrac{- \\gamma \\cdot V_x}{m}} = \\int dt,\n",
    "\\hspace{1cm}\n",
    "\\int \\dfrac{dV_y}{\\dfrac{\\gamma \\cdot V_y}{m} -  g} =  \\int dt .\n",
    "\\end{equation}"
   ]
  },
  {
   "cell_type": "markdown",
   "metadata": {},
   "source": [
    "Najpierw rozwiążemy równanie po lewej:\n",
    "\\begin{equation}\n",
    "t = \\int \\dfrac{dV_x}{ \\dfrac{- \\gamma \\cdot V_x}{m}} = - \\dfrac{m}{\\gamma} \\cdot \\int \\frac{1}{V_x} dV_x = - \\dfrac{m}{\\gamma} \\cdot \\ln{|V_x|} + C,\n",
    "\\\\\n",
    "\\ln{|V_x|}= - \\dfrac{t \\cdot \\gamma}{m},\n",
    "\\\\\n",
    "V_x = (e)^ {-\\dfrac{t\\gamma}{m}}.\n",
    "\\end{equation}"
   ]
  },
  {
   "cell_type": "markdown",
   "metadata": {},
   "source": [
    "Teraz możemy przejść do równania po prawej przekształcając na ułamki proste:\n",
    "\\begin{equation}\n",
    "t = \\int \\dfrac{dV_y}{\\dfrac{\\gamma \\cdot V_y}{m} -g} = \\int \\dfrac{1}{2} \\sqrt{\\dfrac{m}{\\gamma g}} \\left( \\dfrac{1}{\\sqrt{\\dfrac{mg}{\\gamma}}+V_y} + \\dfrac{1}{\\sqrt{\\dfrac{mg}{\\gamma}}-V_y}\\right)dV_y = \\dfrac{1}{2}\\sqrt{\\dfrac{m}{\\gamma g}}\\ln\\left({ \\dfrac{\\sqrt{\\dfrac{mg}{\\gamma}}-V_y} {\\sqrt{\\dfrac{mg}{\\gamma}}+V_y} } \\right)+C.\n",
    "\\end{equation}\n",
    "<br>\n",
    "Z warunku początkowego $V_y(0)=0$ mamy:\n",
    "\\begin{equation}\n",
    "\\frac{1}{2} \\sqrt{\\frac{m}{g\\gamma}}\\cdot \\ln{1} +C =0 \\Rightarrow C=0.\n",
    "\\end{equation}\n",
    "<br>\n",
    "Możemy z tego równania wyliczyć $V_y$\n",
    "\\begin{equation}\n",
    "V_y(t)=\\sqrt{\\dfrac{mg}{\\gamma}} \\dfrac{(e)^{\\sqrt{\\frac{\\gamma g}{m}}t}-(e)^{-\\sqrt{\\frac{\\gamma g}{m}}\\cdot t}}{(e)^{\\sqrt{\\frac{\\gamma g}{m}}t}+(e)^{\\sqrt{\\frac{\\gamma g}{m}}t}} = \\sqrt{\\dfrac{mg}{\\gamma}} \\tanh{\\sqrt{\\dfrac{\\gamma g}{m}}t}.\n",
    "\\end{equation}"
   ]
  },
  {
   "cell_type": "markdown",
   "metadata": {},
   "source": [
    "Podsumowując otrzymaliśmy\n",
    "\\begin{equation}\n",
    "\\left\\{ \\begin{array}{l}\n",
    "V_x = e^ {-\\left(\\dfrac{t\\gamma}{m}\\right)}, \\\\\n",
    "V_y = \\sqrt{\\dfrac{mg}{\\gamma}} \\tanh{\\sqrt{\\dfrac{\\gamma g}{m}}t}.\\\\\n",
    "\\end{array} \\right. \n",
    "\\end{equation}"
   ]
  },
  {
   "cell_type": "markdown",
   "metadata": {},
   "source": [
    "Na tym koniec nie wiadomo czy dobre obliczenia\n"
   ]
  },
  {
   "cell_type": "markdown",
   "metadata": {},
   "source": [
    "\\begin{equation}\n",
    "\\dfrac{dV_x}{dt} = \\dfrac{G_x \\cdot (V_x)^2}{m}\n",
    "\\hspace{3cm}\n",
    "\\dfrac{dV_y}{dt} = \\dfrac{G_y\\cdot (V_y)^2}{m} -g\n",
    "\\end{equation}\n",
    "\\\n",
    "\\begin{equation}\n",
    "G_x = \\frac{1}{2}\\cdot c_d \\cdot S_x \\cdot \\rho  \n",
    "\\hspace{3cm}\n",
    "G_y = \\frac{1}{2}\\cdot c_d \\cdot S_y \\cdot \\rho\n",
    "\\end{equation}\n",
    "\\\n",
    "\\begin{equation}\n",
    "V_x = - \\dfrac{1}{\\dfrac{G_x}{m} \\cdot t + V_{Xo}}\n",
    "\\hspace{3cm}\n",
    "V_y = - \\sqrt{\\dfrac{m \\cdot g}{G_y}} \\cdot \\tanh\\sqrt{\\dfrac{m \\cdot g}{G_y}} \\cdot t\n",
    "\\end{equation}"
   ]
  },
  {
   "cell_type": "markdown",
   "metadata": {},
   "source": [
    "gdzie: <br>\n",
    "$V_x$ - prędkość x'owa, <br>\n",
    "$V_y$ - prędkość y'owa, <br>\n",
    "$m$ - masa skoczka, <br>\n",
    "$g$ - współczynnik grawitacji, <br>\n",
    "$t$ - czas, <br>\n",
    "$c_d$ - współczynnik siły oporu/nośnej,<br>\n",
    "$S_x$, $S_y$ - powierzchnia, <br>\n",
    "$\\rho$  - gęstość powietrza, <br>"
   ]
  },
  {
   "cell_type": "markdown",
   "metadata": {},
   "source": [
    "Niewiele wiadomo o siłach oporu i siły nośnej działających na złożoną strukturę ludzkiego ciała\n",
    "w strumieniu powietrza. Z danych aerodynamicznych dla pozycji lotu jasno wynika, że siły nośne\n",
    "w skokach narciarskich mają taką samą wielkość jak siły oporu, a długość lotu jest bardzo wrażliwa\n",
    "zmiany w obu."
   ]
  },
  {
   "cell_type": "markdown",
   "metadata": {},
   "source": [
    " ![A test image](ksztalt.png)"
   ]
  },
  {
   "cell_type": "markdown",
   "metadata": {},
   "source": [
    "# Budowa skoczni\n",
    "\n",
    "Skocznia narciarska zbudowana jest zgodnie ze standardami International Ski Federation. Wytyczne te zostały napisane z myślą o bezpieczeństwie zawodników, tak aby wszystkie oddziaływania fizyczne oraz biomechaniczne były kontrolowane oraz łatwe do przewidzenia.\n",
    "\n",
    "Najważniejsze wymiary skoczni to długość horyzontalna H mierzona od progu do punktu K oraz odległość wertykalna H od progu do punktu K. Punkt K jest punktem przegięcia skoczni narciarskiej, dlatego wysokość powierzchni lądowania można wyrazić jako funkcję wielomianową trzeciego stopnia."
   ]
  },
  {
   "cell_type": "markdown",
   "metadata": {},
   "source": [
    "![skocznia](budowa_skoczni.png)"
   ]
  },
  {
   "cell_type": "code",
   "execution_count": null,
   "metadata": {},
   "outputs": [],
   "source": []
  }
 ],
 "metadata": {
  "kernelspec": {
   "display_name": "Python 3",
   "language": "python",
   "name": "python3"
  },
  "language_info": {
   "codemirror_mode": {
    "name": "ipython",
    "version": 3
   },
   "file_extension": ".py",
   "mimetype": "text/x-python",
   "name": "python",
   "nbconvert_exporter": "python",
   "pygments_lexer": "ipython3",
   "version": "3.7.3"
  }
 },
 "nbformat": 4,
 "nbformat_minor": 4
}
