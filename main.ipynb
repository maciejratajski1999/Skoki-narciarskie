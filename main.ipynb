{
 "cells": [
  {
   "cell_type": "markdown",
   "metadata": {},
   "source": [
    "# Skoczek narciarski"
   ]
  },
  {
   "cell_type": "markdown",
   "metadata": {},
   "source": [
    "Skoki narciarskie są znane już od XIX wieku, natomiast nalęzą do olimpijskich sportów zimowych od 1924r. [[1](./Bibliografia.ipynb)] Celem każdego skoczka jest wykonanie dłuższego i wyższego skoku niż jego przeciwnik po rozpędzeniu się i odbiciu od progu skoczni. Podczas zawodów oceniany jest zasięg i styl lotu. Długość takiego skoku lub tzw. lotu (jeśli z wiekszej skoczni np. mamuciej) liczona jest od progu skoczni do pięty tylnego buta skoczka w chwili zetknięcia się narty na całej długości ze stokiem z dokładnością do 0,5 metra. [[2]((./Bibliografia.ipynb)]\n",
    "Aby lecieć dłużej trzeba pokonywać grawitację, z tego powodu bardzo często zdażało się, że sportowcy mieli niedowagę, wiedząc, iż czym mniejsza waga, tym wolniejsze spadanie. Aby zapobiec chorobom żywieniowym postanowiono zbadać od czego zależy wygrana i wprowadzono nowe zasady. Ustalono, że siła oporu i siła nośna jest zależna od powierzchni całego skoczka i jego sprzętu. Zatem czym mniejsze narty, tym słabsza była siła nośna i krótszy skok. Wprowadzono wtedy zasadę dotyczącą nart - miały one być tym krótsze im mniejsza waga (\"mniejsze skrzydła\"), natomiast nie mogą być one dłuższe niż 146% wzrostu zawodnika. [[3](./Bibliografia.ipynb)] Jeżeli masa ciała zawodnika nie spełnia minimalnego BMI 21 (ubrany w sprzęcie) to skoczek musi używać krótszych nart. "
   ]
  },
  {
   "cell_type": "markdown",
   "metadata": {},
   "source": [
    "#### Podczas lotu na sportowca działają: <br>\n",
    "- siła grawitacji $F_g$\n",
    "\\begin{equation}\n",
    "F_g = m \\cdot g ,\n",
    "\\end{equation}\n",
    "- siła nośna $F_l$\n",
    "\\begin{equation}\n",
    "F_l = \\dfrac{\\rho}{2} \\cdot v^2 \\cdot c_l \\cdot A = \\dfrac{\\rho}{2} \\cdot v^2 \\cdot L = \\gamma \\cdot \\text{v}^2,\n",
    "\\end{equation}\n",
    "- siła oporu $F_d$\n",
    "\\begin{equation}\n",
    "F_d = \\dfrac{\\rho}{2} \\cdot c_d \\cdot A \\cdot \\text{v}^2 = \\dfrac{\\rho}{2} \\cdot D  \\cdot \\text{v}^2 = \\gamma \\cdot \\text{v}^2,\n",
    "\\end{equation}"
   ]
  },
  {
   "cell_type": "markdown",
   "metadata": {},
   "source": [
    "gdzie: <br>\n",
    "m - masa, <br>\n",
    "g - współczynnik grawitacji, <br>\n",
    "$\\rho$  - gęstość powietrza, <br>\n",
    "v - rzeczywista prędkość, <br>\n",
    "A - płaski obszar powierzchni podnoszonej/oporu, powierzchnia rzutu ciała na płaszczyznę prostopadłą do wektora prędkości ciała względem płynu (upraszczając, jest to powierzchnia ‘wystawiona’ w kierunku przepływu),<br>\n",
    "$c_l$ - współczynnik siły nośnej przy żądanym kącie natarcia, liczba Reynolds'a,<br>\n",
    "$c_d$ - współczynnik siły oporu,<br>\n",
    "L = $c_l \\cdot A $,<br>\n",
    "D = $c_d \\cdot A $.<br>\n",
    "$\\gamma = \\dfrac {\\rho}{2} \\cdot D$  - stała<br>"
   ]
  },
  {
   "cell_type": "markdown",
   "metadata": {},
   "source": [
    "W przypadku ruchu w dwóch wymiarach prędkość wykorzystywana w sile oporu jest długością wektora predkości $\\text{v}=(V_x,V_y)$ i jest równa $|\\text{v}|=\\sqrt{V_x^2+V_y^2}$ Ponieważ siła oporu działa wzdłuż unormowanego wektora prędkości to siła postaci $ F_d \\cdot \\dfrac{\\text{v}}{|\\text{v}|} $ będzie działać na skoczka. <br>\n",
    "Równanie staje się nieliniowe i aby je rozwiązać wykorzystamy schemat Eulera. "
   ]
  },
  {
   "cell_type": "markdown",
   "metadata": {},
   "source": [
    "![Skoczek na osiach i jego siły](siły-skoczek.png)"
   ]
  },
  {
   "cell_type": "markdown",
   "metadata": {},
   "source": [
    "Prędkość ruchu po torze lotu v ma składowe x' i y':\n",
    "\\begin{equation}\n",
    "\\text{v}^2 = (\\text{x}')^2 + (\\text{y}')^2, \\\\\n",
    "\\text{v} = \\sqrt{(\\text{x}')^2 + (\\text{y}')^2}.\n",
    "\\end{equation}    \n",
    "Sportowiec może silnie wpływać na siły aerodynamiczne poprzez zmianę ułożenia swojego ciała, tj. zwiększając lub zmniejszając swoją powierzchnię. Może to wpływać na opór i siłę nośną (i moment obrotowy), a tym samym znacząco wpływają na zmiany jego pozycji w locie względem strumienia powietrza (kąt nachylenia). Tor lotu opisują następujące nieliniowe równania różniczkowe, które można rozwiązać numerycznie za pomocą odpowiednich procedur iteracyjnych."
   ]
  },
  {
   "cell_type": "markdown",
   "metadata": {},
   "source": [
    "Aby znaleźć równanie toru lotu wykorzystujemy drugą zasadę dynamiki Newtona i rozdzielamy nasze obliczenia na tor lotu względem osi X i Y. Wyznaczymy model liniowy dla małych prędkości oraz kwadratowy dla większych prędkości."
   ]
  },
  {
   "cell_type": "markdown",
   "metadata": {},
   "source": [
    "#### Model liniowy:\n",
    "\\begin{equation}\n",
    "\\left\\{ \\begin{array}{l}\n",
    "F_x = -F_d, \\\\\n",
    "F_y = F_l - F_g,\\\\\n",
    "\\end{array} \\right. \n",
    "\\end{equation}\n",
    "\n",
    "\\begin{equation}\n",
    "\\left\\{ \\begin{array}{l}\n",
    "m \\cdot a_x = - \\gamma_x \\cdot V_x, \\\\\n",
    "m \\cdot a_y =  \\gamma_y \\cdot V_y - m \\cdot g.\\\\\n",
    "\\end{array} \\right. \n",
    "\\end{equation}\n",
    "\n",
    "Pamiętając, że $ a = \\dfrac{dV}{dt}$ otrzymujemy:\n",
    "\\begin{equation}\n",
    "\\left\\{ \\begin{array}{l}\n",
    "m \\cdot \\dfrac{dV_x}{dt} = - \\gamma_x \\cdot V_x, \\\\\n",
    "m \\cdot \\dfrac{dV_y}{dt} =  \\gamma_y \\cdot V_y - m \\cdot g.\\\\\n",
    "\\end{array} \\right. \n",
    "\\end{equation}\n",
    "Następnie dzielimy oba równania obustronnie przez $m$:\n",
    "\\begin{equation}\n",
    "\\left\\{ \\begin{array}{l}\n",
    "\\dfrac{dV_x}{dt} = \\dfrac{- \\gamma_x \\cdot V_x}{m}, \\\\\n",
    "\\dfrac{dV_y}{dt} =  \\dfrac{\\gamma_y \\cdot V_y}{m} -  g .\\\\\n",
    "\\end{array} \\right.\n",
    "\\end{equation}\n",
    "Przekształcamy równania i całkujemy:\n",
    "\\begin{equation}\n",
    "\\left\\{ \\begin{array}{l}\n",
    "\\int \\dfrac{dV_x}{ \\dfrac{- \\gamma_x \\cdot V_x}{m}} = \\int dt,\\\\\n",
    "\\int \\dfrac{dV_y}{\\dfrac{\\gamma_y \\cdot V_y}{m} -  g} =  \\int dt .\\\\\n",
    "\\end{array} \\right.\n",
    "\\end{equation}"
   ]
  },
  {
   "cell_type": "markdown",
   "metadata": {},
   "source": [
    "Najpierw rozwiążemy równanie dla osi X:\n",
    "\\begin{equation}\n",
    "\\int \\dfrac{dV_x}{ \\dfrac{- \\gamma_x \\cdot V_x}{m}} = - \\dfrac{m}{\\gamma_x} \\cdot \\int \\frac{1}{V_x} dV_x = - \\dfrac{m}{\\gamma_x} \\cdot \\ln{|V_x|} + C = t,\n",
    "\\end{equation}\n",
    "<br>\n",
    "\\begin{equation}\n",
    "-\\dfrac{m}{\\gamma_x}\\cdot \\ln{|V_x|}= t - C ,\n",
    "\\end{equation}\n",
    "<br>\n",
    "\\begin{equation}\n",
    "\\ln{|V_x|} = - \\dfrac{t \\cdot \\gamma_x}{m} + \\dfrac{C \\cdot \\gamma_x}{m}\n",
    "\\end{equation}\n",
    "<br>\n",
    "\\begin{equation}\n",
    "V_x = (e)^ {-\\dfrac{t\\gamma_x}{m}} \\cdot (e)^{C{\\dfrac{\\gamma_x}{m}}}.\n",
    "\\end{equation}"
   ]
  },
  {
   "cell_type": "markdown",
   "metadata": {},
   "source": [
    "Teraz możemy przejść do równania dla osi Y:\n",
    "\\begin{equation}\n",
    "\\int \\dfrac{dV_y}{\\dfrac{\\gamma_y}{m}\\cdot V_y -g} = \\dfrac{m}{\\gamma_y}\\cdot \\ln{|\\dfrac{\\gamma_y}{m}V_y - g|} +C = t. \n",
    "\\end{equation}\n",
    "<br>\n",
    "\\begin{equation}\n",
    "\\dfrac{m}{\\gamma_y}\\cdot \\ln{|\\dfrac{\\gamma_y}{m}V_y - g|} = t - C ,\n",
    "\\end{equation}\n",
    "<br>\n",
    "\\begin{equation}\n",
    "\\ln{|\\dfrac{\\gamma_y}{m}V_y - g|} =\\dfrac{t\\gamma_y}{m} - \\dfrac{C\\gamma_y}{m} ,\n",
    "\\end{equation}\n",
    "<br>\n",
    "\\begin{equation}\n",
    "\\dfrac{\\gamma_y}{m}V_y - g = e^{\\left(\\dfrac{t\\gamma_y}{m} - \\dfrac{C\\gamma_y}{m}\\right)},\n",
    "\\end{equation}\n",
    "<br>\n",
    "\\begin{equation}\n",
    "\\dfrac{\\gamma_y}{m}V_y = e^{\\left(\\dfrac{t\\gamma_y}{m} - \\dfrac{C\\gamma_y}{m}\\right)} +g ,\n",
    "\\end{equation}\n",
    "<br>\n",
    "\\begin{equation}\n",
    "V_y = \\dfrac{m}{\\gamma_y}e^{\\left(\\dfrac{t\\gamma_y}{m} - \\dfrac{C\\gamma_y}{m}\\right)} +\\dfrac{m}{\\gamma_y}g.\n",
    "\\end{equation}"
   ]
  },
  {
   "cell_type": "markdown",
   "metadata": {},
   "source": [
    "#### Model kwadratowy:\n",
    "\\begin{equation}\n",
    "\\left\\{ \\begin{array}{l}\n",
    "F_x = -F_d, \\\\\n",
    "F_y = F_l - F_g,\\\\\n",
    "\\end{array} \\right. \n",
    "\\end{equation}\n",
    "\n",
    "\\begin{equation}\n",
    "\\left\\{ \\begin{array}{l}\n",
    "m \\cdot a_x = - \\gamma_x \\cdot V_x^2, \\\\\n",
    "m \\cdot a_y =  \\gamma_y \\cdot V_y^2 - m \\cdot g.\\\\\n",
    "\\end{array} \\right. \n",
    "\\end{equation}\n",
    "Pamiętając, że $ a = \\dfrac{dV}{dt}$ otrzymujemy:\n",
    "\\begin{equation}\n",
    "\\left\\{ \\begin{array}{l}\n",
    "m \\cdot \\dfrac{dV_x}{dt} = - \\gamma_x \\cdot V_x^2, \\\\\n",
    "m \\cdot \\dfrac{dV_y}{dt} =  \\gamma_y \\cdot V_y^2 - m \\cdot g.\\\\\n",
    "\\end{array} \\right. \n",
    "\\end{equation}\n",
    "Następnie dzielimy oba równania obustronnie przez $m$:\n",
    "\\begin{equation}\n",
    "\\left\\{ \\begin{array}{l}\n",
    "\\dfrac{dV_x}{dt} = \\dfrac{- \\gamma_x \\cdot V_x^2}{m}, \\\\\n",
    "\\dfrac{dV_y}{dt} =  \\dfrac{\\gamma_y \\cdot V_y^2}{m} -  g .\\\\\n",
    "\\end{array} \\right.\n",
    "\\end{equation}\n",
    "Przekształcamy równania i całkujemy:\n",
    "\\begin{equation}\n",
    "\\left\\{ \\begin{array}{l}\n",
    "\\int \\dfrac{dV_x}{ \\dfrac{- \\gamma_x \\cdot V_x^2}{m}} = \\int dt,\\\\\n",
    "\\int \\dfrac{dV_y}{\\dfrac{\\gamma_y \\cdot V_y^2}{m} -  g} =  \\int dt .\\\\\n",
    "\\end{array} \\right.\n",
    "\\end{equation}"
   ]
  },
  {
   "cell_type": "markdown",
   "metadata": {},
   "source": [
    "Najpierw rozwiążemy równanie dla osi X:\n",
    "\\begin{equation}\n",
    "\\int \\dfrac{dV_x}{ \\dfrac{- \\gamma_x \\cdot V_x^2}{m}} = - \\dfrac{m}{\\gamma_x} \\cdot \\int \\frac{1}{V_x^2} dV_x = - \\dfrac{m}{\\gamma_x} \\cdot\\left( - \\dfrac{1}{V_x} \\right)+ C = \\dfrac{m}{\\gamma_x \\cdot V_x} + C = t,\n",
    "\\end{equation}\n",
    "<br>\n",
    "\\begin{equation}\n",
    "\\dfrac{m}{\\gamma_x \\cdot V_x} = t - C,\n",
    "\\end{equation}\n",
    "<br>\n",
    "\\begin{equation}\n",
    "V_x = \\dfrac{m}{\\gamma_x(t - C) }.\n",
    "\\end{equation}"
   ]
  },
  {
   "cell_type": "markdown",
   "metadata": {},
   "source": [
    "Teraz możemy przejść do równania dla osi Y: <br>\n",
    "Korzystamy z ułamków prostych\n",
    "\\begin{equation}\n",
    "\\dfrac{dV_y}{\\dfrac{\\gamma_y}{m}V_y^2 - g} = \\dfrac{A}{\\sqrt{\\dfrac{\\gamma_y}{m}}V_y - \\sqrt{g}}  +\\dfrac{B}{\\sqrt{\\dfrac{\\gamma_y}{m}}V_y + \\sqrt{g}}, \n",
    "\\end{equation}\n",
    "<br>mnożymy obustronnie przez mianownik z lewej strony:\n",
    "\\begin{equation}\n",
    "dV_y = A\\cdot \\left(\\sqrt{\\dfrac{\\gamma_y}{m}}V_y + \\sqrt{g}\\right) + B\\left(\\sqrt{\\dfrac{\\gamma_y}{m}}V_y - \\sqrt{g}\\right) ,\n",
    "\\end{equation}\n",
    "<br>\n",
    "\\begin{equation}\n",
    "dVy = V_y \\cdot \\left( \\sqrt{\\dfrac{\\gamma_y}{m}}\\cdot A +\\sqrt{\\dfrac{\\gamma_y}{m}}\\cdot B \\right) +\\left( \\sqrt{g}\\cdot A-\\sqrt{g}\\cdot B \\right).\n",
    "\\end{equation}\n",
    "<br>\n",
    "\\begin{equation}\n",
    "\\left\\{ \\begin{array}{l}\n",
    "\\sqrt{\\dfrac{\\gamma_y}{m}}\\cdot A +\\sqrt{\\dfrac{\\gamma_y}{m}}\\cdot B  = 0 \\\\\n",
    "\\sqrt{g}\\cdot A-\\sqrt{g}\\cdot B = 1\\\\\n",
    "\\end{array} \\right. \n",
    "\\end{equation}\n",
    "<br>\n",
    "\\begin{equation}\n",
    "\\left\\{ \\begin{array}{l}\n",
    "2 \\cdot \\sqrt{\\dfrac{\\gamma_y}{m}} \\cdot B = - \\sqrt{\\dfrac{\\gamma_y}{mg}} \\\\\n",
    "A = \\dfrac{1}{\\sqrt{g}} +B\\\\\n",
    "\\end{array} \\right. \n",
    "\\end{equation}\n",
    "<br>\n",
    "\\begin{equation}\n",
    "\\left\\{ \\begin{array}{l}\n",
    "B = - \\dfrac{1}{2}\\sqrt{\\dfrac{1}{g}} \\\\\n",
    "A =  \\dfrac{1}{2}\\sqrt{\\dfrac{1}{g}}\\\\\n",
    "\\end{array} \\right. \n",
    "\\end{equation}\n",
    "\n",
    "Czyli otrzymujemy:\n",
    "\\begin{equation}\n",
    "\\dfrac{dV_y}{\\dfrac{\\gamma_y}{m}V_y^2 - g} = \\dfrac{\\dfrac{1}{2}\\sqrt{\\dfrac{1}{g}}}{\\sqrt{\\dfrac{\\gamma_y}{m}}V_y - \\sqrt{g}}  +\\dfrac{- \\dfrac{1}{2}\\sqrt{\\dfrac{1}{g}}}{\\sqrt{\\dfrac{\\gamma_y}{m}}V_y + \\sqrt{g}} = \\dfrac{1}{2}\\sqrt{\\dfrac{m}{g\\gamma_y}} \\left( \\dfrac{1}{V_y - \\sqrt{\\dfrac{mg}{\\gamma_y}}}  - \\dfrac{1}{V_y + \\sqrt{\\dfrac{mg}{\\gamma_y}}} \\right),\n",
    "\\end{equation}\n",
    "Możemy teraz całkować:"
   ]
  },
  {
   "cell_type": "markdown",
   "metadata": {},
   "source": [
    "\\begin{equation}\n",
    "\\int \\dfrac{dV_y}{\\dfrac{\\gamma_y}{m}\\cdot V_y^2 -g} = \n",
    "\\int \\dfrac{1}{2} \\sqrt{\\dfrac{m}{g\\gamma_y}} \\left( \\dfrac{1}{V_y - \\sqrt{\\frac{mg}{\\gamma_y}}} - \\dfrac{1}{V_y+\\sqrt{\\frac{mg}{\\gamma_y}}}\\right)dV_y = \n",
    "\\end{equation}\n",
    "<br>\n",
    "\\begin{equation}\n",
    "\\dfrac{1}{2} \\sqrt{\\dfrac{m}{g\\gamma_y}} \\int \\left( \\dfrac{1}{V_y - \\sqrt{\\frac{mg}{\\gamma_y}}} - \\dfrac{1}{V_y+\\sqrt{\\frac{mg}{\\gamma_y}}}\\right)dV_y = \n",
    "\\end{equation}\n",
    "<br>\n",
    "\\begin{equation}\n",
    "=\\dfrac{1}{2}\\sqrt{\\dfrac{m}{g\\gamma_y}} \\ln{\\left(\\dfrac{V_y - \\sqrt{\\frac{mg}{\\gamma_y}}} {V_y + \\sqrt{\\frac{mg}{\\gamma_y}}}\\right)} +C = t. \\\\ \n",
    "\\end{equation}\n",
    "<br>\n",
    "\\begin{equation}\n",
    "\\ln{\\left(\\dfrac{V_y - \\sqrt{\\frac{mg}{\\gamma_y}}} {V_y + \\sqrt{\\frac{mg}{\\gamma_y}}}\\right)} =2\\sqrt{\\dfrac{g\\gamma_y}{m}} t - 2\\sqrt{\\dfrac{g\\gamma_y}{m}}C\n",
    "\\end{equation}"
   ]
  },
  {
   "cell_type": "markdown",
   "metadata": {},
   "source": [
    "DAlej warunki poczatkowe dla Vy i Vx..."
   ]
  },
  {
   "cell_type": "code",
   "execution_count": null,
   "metadata": {},
   "outputs": [],
   "source": []
  },
  {
   "cell_type": "markdown",
   "metadata": {},
   "source": [
    "Z warunku początkowego $V_y(0)=0$ mamy:\n",
    "\\begin{equation}\n",
    "\\frac{1}{2} \\sqrt{\\frac{m}{g\\gamma}}\\cdot \\ln{1} +C =0 \\Rightarrow C=0.\n",
    "\\end{equation}\n",
    "<br>\n",
    "Możemy z tego równania wyliczyć $V_y$\n",
    "\\begin{equation}\n",
    "V_y(t)=\\sqrt{\\dfrac{mg}{\\gamma}} \\dfrac{(e)^{\\sqrt{\\frac{\\gamma g}{m}}t}-(e)^{-\\sqrt{\\frac{\\gamma g}{m}}\\cdot t}}{(e)^{\\sqrt{\\frac{\\gamma g}{m}}t}+(e)^{\\sqrt{\\frac{\\gamma g}{m}}t}} = \\sqrt{\\dfrac{mg}{\\gamma}} \\tanh{\\sqrt{\\dfrac{\\gamma g}{m}}t}.\n",
    "\\end{equation}"
   ]
  },
  {
   "cell_type": "markdown",
   "metadata": {},
   "source": [
    "Podsumowując otrzymaliśmy\n",
    "\\begin{equation}\n",
    "\\left\\{ \\begin{array}{l}\n",
    "V_x = e^ {-\\left(\\dfrac{t\\gamma}{m}\\right)}, \\\\\n",
    "V_y = \\sqrt{\\dfrac{mg}{\\gamma}} \\tanh{\\sqrt{\\dfrac{\\gamma g}{m}}t}.\\\\\n",
    "\\end{array} \\right. \n",
    "\\end{equation}"
   ]
  },
  {
   "cell_type": "markdown",
   "metadata": {},
   "source": [
    "Na tym koniec nie wiadomo czy dobre obliczenia\n"
   ]
  },
  {
   "cell_type": "markdown",
   "metadata": {},
   "source": [
    "\\begin{equation}\n",
    "\\dfrac{dV_x}{dt} = \\dfrac{G_x \\cdot (V_x)^2}{m}\n",
    "\\hspace{3cm}\n",
    "\\dfrac{dV_y}{dt} = \\dfrac{G_y\\cdot (V_y)^2}{m} -g\n",
    "\\end{equation}\n",
    "\\\n",
    "\\begin{equation}\n",
    "G_x = \\frac{1}{2}\\cdot c_d \\cdot S_x \\cdot \\rho  \n",
    "\\hspace{3cm}\n",
    "G_y = \\frac{1}{2}\\cdot c_d \\cdot S_y \\cdot \\rho\n",
    "\\end{equation}\n",
    "\\\n",
    "\\begin{equation}\n",
    "V_x = - \\dfrac{1}{\\dfrac{G_x}{m} \\cdot t + V_{Xo}}\n",
    "\\hspace{3cm}\n",
    "V_y = - \\sqrt{\\dfrac{m \\cdot g}{G_y}} \\cdot \\tanh\\sqrt{\\dfrac{m \\cdot g}{G_y}} \\cdot t\n",
    "\\end{equation}"
   ]
  },
  {
   "cell_type": "markdown",
   "metadata": {},
   "source": [
    "gdzie: <br>\n",
    "$V_x$ - prędkość x'owa, <br>\n",
    "$V_y$ - prędkość y'owa, <br>\n",
    "$m$ - masa skoczka, <br>\n",
    "$g$ - współczynnik grawitacji, <br>\n",
    "$t$ - czas, <br>\n",
    "$c_d$ - współczynnik siły oporu/nośnej,<br>\n",
    "$S_x$, $S_y$ - powierzchnia, <br>\n",
    "$\\rho$  - gęstość powietrza, <br>"
   ]
  },
  {
   "cell_type": "markdown",
   "metadata": {},
   "source": [
    "Niewiele wiadomo o siłach oporu i siły nośnej działających na złożoną strukturę ludzkiego ciała\n",
    "w strumieniu powietrza. Z danych aerodynamicznych dla pozycji lotu jasno wynika, że siły nośne\n",
    "w skokach narciarskich mają taką samą wielkość jak siły oporu, a długość lotu jest bardzo wrażliwa\n",
    "zmiany w obu."
   ]
  },
  {
   "cell_type": "markdown",
   "metadata": {},
   "source": [
    " ![A test image](ksztalt.png)"
   ]
  },
  {
   "cell_type": "code",
   "execution_count": 13,
   "metadata": {},
   "outputs": [
    {
     "ename": "SyntaxError",
     "evalue": "can't assign to function call (<ipython-input-13-d9d0e597b72e>, line 9)",
     "output_type": "error",
     "traceback": [
      "\u001b[1;36m  File \u001b[1;32m\"<ipython-input-13-d9d0e597b72e>\"\u001b[1;36m, line \u001b[1;32m9\u001b[0m\n\u001b[1;33m    y(1)= 1\u001b[0m\n\u001b[1;37m           ^\u001b[0m\n\u001b[1;31mSyntaxError\u001b[0m\u001b[1;31m:\u001b[0m can't assign to function call\n"
     ]
    }
   ],
   "source": [
    "import numpy as np\n",
    "import matplotlib.pyplot as plt\n",
    "\n",
    "t0 = 0\n",
    "tf = 3\n",
    "dt = 0.1\n",
    "t = np.arange(t0, tf, dt)\n",
    "print(t)\n",
    "y(1)= 1\n",
    "\n",
    "#for i in range(1, length(t)-1):\n",
    "   # y(1) = 1\n",
    "    #y_exact(1) = 1\n",
    " #   y(i+1) = y(i) + dt* 4*y(i)\n",
    " #   y_exact(i+1) = exp(4*t*(i+1))\n",
    "#plt.plot(t, y_exact)\n",
    "#plt.ylabel('some numbers')\n",
    "#plt.show()"
   ]
  },
  {
   "cell_type": "markdown",
   "metadata": {},
   "source": [
    "# Budowa skoczni\n",
    "\n",
    "Skocznia narciarska zbudowana jest zgodnie ze standardami International Ski Federation. Wytyczne te zostały napisane z myślą o bezpieczeństwie zawodników, tak aby wszystkie oddziaływania fizyczne oraz biomechaniczne były kontrolowane oraz łatwe do przewidzenia.\n",
    "\n",
    "Najważniejsze wymiary skoczni to długość horyzontalna H mierzona od progu do punktu K oraz odległość wertykalna H od progu do punktu K. Stosunek H:L jest tym większy im dłuższa jest skocznia i wynosi zazwyczaj $ 0.45 < H:L < 0.60$ . Punkt K jest punktem przegięcia skoczni narciarskiej, dlatego wysokość powierzchni lądowania (stoku) można wyrazić jako funkcję wielomianową trzeciego stopnia.\n",
    "\n"
   ]
  },
  {
   "cell_type": "markdown",
   "metadata": {},
   "source": [
    "![skocznia](budowa_skoczni.png)"
   ]
  },
  {
   "cell_type": "markdown",
   "metadata": {},
   "source": [
    "Początkowe nachylenie stoku powinno być większe niż kąt wyjścia z progu, ponieważ tor lotu skoczka w stosunku do powierzchni powinien przypominać parabolę, czyli wysokość nad stokiem początkowe rośnie, w połowie lotu przyjmuje maksimum, a następnie maleje aż do lądowania.\n",
    "\n",
    "Wykorzystamy funkcję:\n",
    "$\n",
    "\\frac{1}{3a}x^3 - x^2 + c\n",
    "$\n",
    "aby znaleźć funkcję z punktem przegięcia dla żądanego a"
   ]
  },
  {
   "cell_type": "code",
   "execution_count": 54,
   "metadata": {
    "scrolled": true
   },
   "outputs": [
    {
     "data": {
      "text/plain": [
       "Text(100, 0, 'K')"
      ]
     },
     "execution_count": 54,
     "metadata": {},
     "output_type": "execute_result"
    },
    {
     "data": {
      "image/png": "[encoded data removed]",
      "text/plain": [
       "<Figure size 432x288 with 1 Axes>"
      ]
     },
     "metadata": {
      "needs_background": "light"
     },
     "output_type": "display_data"
    }
   ],
   "source": [
    "class Hill:\n",
    "\n",
    "    def __init__(self, length, velocity):\n",
    "        '''\n",
    "        :param length: horyzontalny dystans od progu do punktu K\n",
    "        :param velocity: prędkość wyjścia z progu\n",
    "        '''\n",
    "        self.velocity = velocity\n",
    "        self.length = length\n",
    "        self.height = self.length*(0.6)\n",
    "        self.draw_length = self.length*1.2\n",
    "        self.modifier = ((2/3)*((self.draw_length)**2))/self.height\n",
    "\n",
    "    def curve(self, x):\n",
    "        '''\n",
    "        :return: wielomian trzeciego stopnia od x\n",
    "        '''\n",
    "        # nie chcem zaczynać z x=0, ponieważ oczekujemy że stok pod progiem od razu będzie nachylony\n",
    "        x= x + self.length*0.2\n",
    "        return ((1/(3*(self.draw_length)))*(x**3) - (x**2))/self.modifier + self.height\n",
    "\n",
    "\n",
    "import numpy\n",
    "skocznia = Hill(100,25)\n",
    "x_data = numpy.arange(0,skocznia.length*1.75, 0.01)\n",
    "y_data = [skocznia.curve(x) for x in x_data]\n",
    "from matplotlib import pyplot\n",
    "pyplot.plot(x_data,y_data)\n",
    "pyplot.scatter(skocznia.length,0)\n",
    "pyplot.annotate(\"K\", (skocznia.length,0), size=20)"
   ]
  },
  {
   "cell_type": "markdown",
   "metadata": {},
   "source": [
    "Stwórzmy teraz reprezentację skoczka\n",
    "Skoczkowi przyznamy daną masę oraz będziemy chcieli przemieszczać go po płaszczyźnie x,y"
   ]
  },
  {
   "cell_type": "code",
   "execution_count": 20,
   "metadata": {},
   "outputs": [],
   "source": [
    "class Jumper:\n",
    "\n",
    "    def __init__(self, mass):\n",
    "        self.mass = mass\n",
    "        self.position = 0,0\n",
    "\n",
    "    def move(self, x, y):\n",
    "        self.position = self.position[0] + x, self.position[1] + y"
   ]
  },
  {
   "cell_type": "markdown",
   "metadata": {},
   "source": [
    "# Przybliżanie metodą Eulera\n",
    "\n",
    "Najpierw zobaczmy model liniowy $ \\frac{dV}{dt} = -Cd*\\frac{V}{|V|}*|V| $, gdzie $V$ jest wektorem prędkośći $\\left(Vx,Vy - g\\right) $"
   ]
  },
  {
   "cell_type": "code",
   "execution_count": 79,
   "metadata": {},
   "outputs": [
    {
     "data": {
      "image/png": "[encoded data removed]",
      "text/plain": [
       "<Figure size 432x288 with 1 Axes>"
      ]
     },
     "metadata": {
      "needs_background": "light"
     },
     "output_type": "display_data"
    }
   ],
   "source": [
    "delta_time = 0.001\n",
    "time = numpy.arange(0,10,delta_time)\n",
    "VX, VY = [skocznia.velocity],[0]\n",
    "Cd = 0.2 / Jumper(55).mass\n",
    "g = 9.81\n",
    "\n",
    "def linear_model(v):\n",
    "    '''\n",
    "    liniowa zależność oporu powietrza do prędkości\n",
    "    :param v: tuple (Vx(i), Vy(i))\n",
    "    :return : tuple (Vx(i+1),Vy(i+1))\n",
    "    '''\n",
    "    return -Cd*v[0]*delta_time, (-Cd*v[1] - g)*delta_time\n",
    "\n",
    "for t in time[1:]:\n",
    "    x,y = linear_model((VX[-1],VY[-1]))\n",
    "    VX.append(VX[-1] + x)\n",
    "    VY.append(VY[-1] + y)\n",
    "    \n",
    "pyplot.plot(time,VX)\n",
    "pyplot.title(\"Prędkość Vx(t)\")\n",
    "pyplot.xlabel(\"t (s)\")\n",
    "pyplot.ylabel(\"Vx (m/s)\")\n",
    "pyplot.ylim(0, VX[0]+1)\n",
    "pyplot.show()"
   ]
  },
  {
   "cell_type": "code",
   "execution_count": 83,
   "metadata": {},
   "outputs": [
    {
     "name": "stdout",
     "output_type": "stream",
     "text": [
      "-96.32850062797866\n"
     ]
    },
    {
     "data": {
      "image/png": "[encoded data removed]",
      "text/plain": [
       "<Figure size 432x288 with 1 Axes>"
      ]
     },
     "metadata": {
      "needs_background": "light"
     },
     "output_type": "display_data"
    }
   ],
   "source": [
    "pyplot.plot(time,VY)\n",
    "pyplot.title(\"Prędkość Vy(t)\")\n",
    "pyplot.xlabel(\"t (s)\")\n",
    "pyplot.ylabel(\"Vy (m/s)\")\n",
    "pyplot.ylim()\n",
    "print(VY[-1])\n",
    "pyplot.show()"
   ]
  },
  {
   "cell_type": "markdown",
   "metadata": {},
   "source": [
    "Teraz model zależności kwadratowej\n",
    "$ \\frac{dV}{dt} = -Cd*\\frac{V}{|V|}*|V|^2 $"
   ]
  },
  {
   "cell_type": "code",
   "execution_count": 86,
   "metadata": {},
   "outputs": [
    {
     "data": {
      "image/png": "[encoded data removed]",
      "text/plain": [
       "<Figure size 432x288 with 1 Axes>"
      ]
     },
     "metadata": {
      "needs_background": "light"
     },
     "output_type": "display_data"
    }
   ],
   "source": [
    "def square_model(v):\n",
    "    '''\n",
    "    kwadratowa zależność oporu powietrza do prędkości\n",
    "    :param v: tuple (Vx(i), Vy(i))\n",
    "    :return : tuple (Vx(i+1),Vy(i+1))\n",
    "    '''\n",
    "    l = (v[0] ** 2 + v[1] ** 2) ** (1 / 2)\n",
    "    return -Cd * v[0] * l*delta_time, (-Cd * v[1] * l - g)*delta_time\n",
    "\n",
    "VX, VY = [skocznia.velocity],[0]\n",
    "for t in time[1:]:\n",
    "    x,y = square_model((VX[-1],VY[-1]))\n",
    "    VX.append(VX[-1] + x)\n",
    "    VY.append(VY[-1] + y)\n",
    "    \n",
    "pyplot.plot(time,VX)\n",
    "pyplot.title(\"Prędkość Vx(t)\")\n",
    "pyplot.xlabel(\"t (s)\")\n",
    "pyplot.ylabel(\"Vx (m/s)\")\n",
    "pyplot.ylim(0, VX[0]+1)\n",
    "pyplot.show()"
   ]
  },
  {
   "cell_type": "code",
   "execution_count": 85,
   "metadata": {},
   "outputs": [
    {
     "name": "stdout",
     "output_type": "stream",
     "text": [
      "-48.961086029811256\n"
     ]
    },
    {
     "data": {
      "image/png": "[encoded data removed]",
      "text/plain": [
       "<Figure size 432x288 with 1 Axes>"
      ]
     },
     "metadata": {
      "needs_background": "light"
     },
     "output_type": "display_data"
    }
   ],
   "source": [
    "pyplot.plot(time,VY)\n",
    "pyplot.title(\"Prędkość Vy(t)\")\n",
    "pyplot.xlabel(\"t (s)\")\n",
    "pyplot.ylabel(\"Vy (m/s)\")\n",
    "pyplot.ylim()\n",
    "print(VY[-1])\n",
    "pyplot.show()"
   ]
  },
  {
   "cell_type": "markdown",
   "metadata": {},
   "source": [
    " ## [Bibliografia](Bibliografia.ipynb)"
   ]
  }
 ],
 "metadata": {
  "kernelspec": {
   "display_name": "Python 3",
   "language": "python",
   "name": "python3"
  },
  "language_info": {
   "codemirror_mode": {
    "name": "ipython",
    "version": 3
   },
   "file_extension": ".py",
   "mimetype": "text/x-python",
   "name": "python",
   "nbconvert_exporter": "python",
   "pygments_lexer": "ipython3",
   "version": "3.7.3"
  }
 },
 "nbformat": 4,
 "nbformat_minor": 4
}
