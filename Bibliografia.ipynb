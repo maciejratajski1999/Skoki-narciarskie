{
 "cells": [
  {
   "cell_type": "markdown",
   "metadata": {},
   "source": [
    "# Bibliografia"
   ]
  },
  {
   "cell_type": "markdown",
   "metadata": {},
   "source": [
    "[1] [Historia skoków narciarskich](https://www.skokinarciarskie.pl/historia-skokow-narciarskich)"
   ]
  },
  {
   "cell_type": "markdown",
   "metadata": {},
   "source": [
    "[2] [Zasady oceniania skoków](https://skoki-narciarskie.pl/zasady-obowiazujace-w-skokach-narciarskich/)"
   ]
  },
  {
   "cell_type": "markdown",
   "metadata": {},
   "source": [
    "[3] [The physics of ski jumping, W. Müller, Department of Biophysics, Medical University of Graz, Austria](https://cds.cern.ch/record/1009275/files/p269.pdf) \n"
   ]
  },
  {
   "cell_type": "markdown",
   "metadata": {},
   "source": [
    "[4] [Sprzęt do skoków narciarskich](https://www.skokinarciarskie.pl/sprzet-skoczka-narciarskiego)"
   ]
  },
  {
   "cell_type": "markdown",
   "metadata": {},
   "source": [
    "[5] [Zdjęcie skoczka na osiach z siłami](https://www.olympic.org/ski-jumping)"
   ]
  },
  {
   "cell_type": "markdown",
   "metadata": {},
   "source": [
    "[6] [Zasady konstrukcji skoczni narciarskiej](https://assets.fis-ski.com/image/upload/v1592381507/fis-prod/assets/Construction-Norm_2018-2.pdf)"
   ]
  }
 ],
 "metadata": {
  "kernelspec": {
   "display_name": "Python 3",
   "language": "python",
   "name": "python3"
  },
  "language_info": {
   "codemirror_mode": {
    "name": "ipython",
    "version": 3
   },
   "file_extension": ".py",
   "mimetype": "text/x-python",
   "name": "python",
   "nbconvert_exporter": "python",
   "pygments_lexer": "ipython3",
   "version": "3.7.3"
  }
 },
 "nbformat": 4,
 "nbformat_minor": 4
}
